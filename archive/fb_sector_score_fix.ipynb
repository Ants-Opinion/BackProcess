{
 "cells": [
  {
   "cell_type": "markdown",
   "id": "d3743d14",
   "metadata": {},
   "source": [
    "# Firebase sector_score 컬렉션 수정 파일"
   ]
  },
  {
   "cell_type": "markdown",
   "id": "dd3a8cc7",
   "metadata": {},
   "source": [
    "기존 sector_score => datas 문서에 당일 n.n.p 갯수만 작성되어있었음\n",
    "\n",
    "고칠 sector_score => 각 일자를 작성한 뒤 해당 일자에 맞는 n.n.p와 이전 일자의 n.n.p 작성"
   ]
  },
  {
   "cell_type": "markdown",
   "id": "d9ae6bd1",
   "metadata": {},
   "source": [
    "### 과정\n",
    "sector_detail/\"섹터명\"/dates/\"일자\" 에 있는 데이터를 기반하여 추가\n",
    "\n",
    "데이터 형식\n",
    "sector_score/\"일자\"/\n",
    "```\n",
    "{\n",
    "    \"IT\": \n",
    "        [{ \"negative\" : 1, \"neutral\" : 23, \"positive\" : 6 }, \n",
    "        { \"negative\" : 1, \"neutral\" : 23, \"positive\" : 6 }],\n",
    "    ....\n",
    "}\n",
    "```\n",
    "앞에 오는게 해당 일자의 날짜, 뒤에 오는게 이전날 일자\n",
    "\n",
    "발생할수 있는 문제점\n",
    "- 모든 일자가 다 존재하는게 아님.  -> 없다면 null 처리\n",
    "- 섹터별로 존재하는 일자가 다를수 있음 -> 없다면 null 처리\n"
   ]
  },
  {
   "cell_type": "code",
   "execution_count": null,
   "id": "edaa91bf",
   "metadata": {},
   "outputs": [],
   "source": [
    "## 시스템 import 위치 지정\n",
    "import sys\n",
    "from pathlib import Path\n",
    "\n",
    "# back 디렉토리를 sys.path에 추가\n",
    "back_dir = Path(__file__).parent.parent if '__file__' in globals() else Path().resolve().parent\n",
    "sys.path.append(str(back_dir))"
   ]
  },
  {
   "cell_type": "code",
   "execution_count": 19,
   "id": "04b21f2c",
   "metadata": {},
   "outputs": [],
   "source": [
    "## sectors 불러오기\n",
    "from data.telegram_raw_datas import sectors\n",
    "\n",
    "sectors = sectors.keys()"
   ]
  },
  {
   "cell_type": "code",
   "execution_count": 20,
   "id": "58f9b341",
   "metadata": {},
   "outputs": [],
   "source": [
    "from scripts.firebase.auth import firebase_auth\n",
    "\n",
    "db = firebase_auth()"
   ]
  },
  {
   "cell_type": "code",
   "execution_count": 21,
   "id": "85bd02f0",
   "metadata": {},
   "outputs": [],
   "source": [
    "def get_sector_counts(db, sector, date):\n",
    "    try:\n",
    "        data = db.collection(\"sector_detail\").document(sector).collection(\"dates\").document(date).get().to_dict()\n",
    "        return data.get(\"counts\") if data else None\n",
    "    except:\n",
    "        return None"
   ]
  },
  {
   "cell_type": "code",
   "execution_count": 22,
   "id": "82d0d59f",
   "metadata": {},
   "outputs": [],
   "source": [
    "def get_sector_detail_detail(db,sector,date):\n",
    "    try:\n",
    "        data = db.collection(\"sector_detail\").document(sector).collection(\"detail_dates\").document(date).get().to_dict()\n",
    "        return data\n",
    "    except Exception as e:\n",
    "        return e"
   ]
  },
  {
   "cell_type": "code",
   "execution_count": 23,
   "id": "3e9d0872",
   "metadata": {},
   "outputs": [],
   "source": [
    "def weighted_score(data):\n",
    "    total_weighted_score = 0\n",
    "    total_views = 0\n",
    "    valid_channels = 0\n",
    "    \n",
    "    for channel_name, channel_data in data.items():\n",
    "        score = channel_data.get(\"score\", -1)\n",
    "        if score == -1:  # 유효하지 않은 score는 제외\n",
    "            continue\n",
    "        \n",
    "        # 해당 채널의 최대 views 구하기\n",
    "        max_views = 0\n",
    "        for post in channel_data.get(\"posts\", []):\n",
    "            try:\n",
    "                views_value = post.get('views')\n",
    "                current_views = int(views_value) if views_value is not None else 0\n",
    "            except Exception as e:\n",
    "                print(f\"views 파싱 오류 ({channel_name}): {e}\")\n",
    "                current_views = 0\n",
    "            max_views = max(max_views, current_views)\n",
    "        \n",
    "        # 가중평균 계산을 위한 누적\n",
    "        total_weighted_score += score * max_views\n",
    "        total_views += max_views\n",
    "        valid_channels += 1\n",
    "    \n",
    "    # 가중평균 계산\n",
    "    if total_views == 0:\n",
    "        # views가 모두 0인 경우 단순 평균으로 대체\n",
    "        if valid_channels > 0:\n",
    "            simple_avg = sum(channel_data.get(\"score\", 0) for channel_data in data.values() \n",
    "                           if channel_data.get(\"score\", -1) != -1) / valid_channels\n",
    "            return round(simple_avg, 2)\n",
    "        else:\n",
    "            return 0\n",
    "    \n",
    "    weighted_average = total_weighted_score / total_views\n",
    "    \n",
    "    return round(weighted_average, 2)\n",
    "    "
   ]
  },
  {
   "cell_type": "code",
   "execution_count": 24,
   "id": "9aaf4839",
   "metadata": {},
   "outputs": [],
   "source": [
    "def calculated_score(db, sector, date):\n",
    "    data = get_sector_detail_detail(db,sector,date)\n",
    "    try:\n",
    "        return weighted_score(data)\n",
    "    except:\n",
    "        print(data)\n"
   ]
  },
  {
   "cell_type": "code",
   "execution_count": 25,
   "id": "1d5081b2",
   "metadata": {},
   "outputs": [
    {
     "name": "stdout",
     "output_type": "stream",
     "text": [
      "52.67\n"
     ]
    }
   ],
   "source": [
    "data = calculated_score(db, \"IT\", \"2025-06-01\")\n",
    "print(data)"
   ]
  },
  {
   "cell_type": "code",
   "execution_count": 26,
   "id": "df8a31b9",
   "metadata": {},
   "outputs": [],
   "source": [
    "def write_db(db, data, date):\n",
    "    db.collection(\"sector_score\").document(date).set(data)"
   ]
  },
  {
   "cell_type": "code",
   "execution_count": 27,
   "id": "194963a6",
   "metadata": {},
   "outputs": [],
   "source": [
    "def make_list(dic, sector, today_data, score_data):\n",
    "    dic.update({sector:[today_data, score_data]})\n",
    "    return dic"
   ]
  },
  {
   "cell_type": "code",
   "execution_count": 28,
   "id": "389fe1ae",
   "metadata": {},
   "outputs": [],
   "source": [
    "def main_algoritm(db, today_date):\n",
    "    data = {}\n",
    "    for sector in sectors:\n",
    "        today_data = get_sector_counts(db,sector,today_date)\n",
    "        score_data = calculated_score(db,sector,today_date)\n",
    "        data = make_list(data,sector,today_data,score_data)\n",
    "    print(data)\n",
    "    return data\n"
   ]
  },
  {
   "cell_type": "code",
   "execution_count": 30,
   "id": "90d3fd2e",
   "metadata": {},
   "outputs": [
    {
     "name": "stdout",
     "output_type": "stream",
     "text": [
      "처리 중인 날짜: 2025-08-19\n",
      "{'게임': [{'negative': 2, 'neutral': 12, 'positive': 4}, 51.06], '조선': [{'negative': 12, 'neutral': 10, 'positive': 5}, 44.44], '방산': [{'negative': 4, 'neutral': 10, 'positive': 8}, 58.09], '반도체': [{'negative': 6, 'neutral': 24, 'positive': 3}, 52.51], '이차전지': [{'negative': 2, 'neutral': 10, 'positive': 5}, 54.61], '디스플레이': [{'negative': 3, 'neutral': 6, 'positive': 4}, 53.02], '화장품': [{'negative': 0, 'neutral': 12, 'positive': 10}, 60.59], '자동차': [{'negative': 2, 'neutral': 17, 'positive': 15}, 56.03], '건설': [{'negative': 11, 'neutral': 20, 'positive': 2}, 48.42], '철강': [{'negative': 10, 'neutral': 20, 'positive': 1}, 38.29], '화학': [{'negative': 2, 'neutral': 25, 'positive': 5}, 54.92], '엔터': [{'negative': 2, 'neutral': 14, 'positive': 9}, 58.14], '음식료': [{'negative': 3, 'neutral': 10, 'positive': 6}, 48.94], '패션': [{'negative': 0, 'neutral': 8, 'positive': 3}, 51.45], '풍력': [{'negative': 3, 'neutral': 6, 'positive': 9}, 59.76], '원전': [{'negative': 15, 'neutral': 12, 'positive': 2}, 41.39], '바이오': [{'negative': 3, 'neutral': 27, 'positive': 8}, 51.62], '임플란트': [{'negative': 0, 'neutral': 2, 'positive': 1}, 64.12], '피부미용': [{'negative': 1, 'neutral': 10, 'positive': 5}, 59.88], '유통': [{'negative': 2, 'neutral': 18, 'positive': 12}, 52.43], '은행': [{'negative': 8, 'neutral': 35, 'positive': 4}, 46.6], '보험': [{'negative': 0, 'neutral': 15, 'positive': 1}, 51.11], '수소': [{'negative': 1, 'neutral': 3, 'positive': 2}, 54.22], 'IT': [{'negative': 5, 'neutral': 23, 'positive': 7}, 52.67], '전선': [{'negative': 2, 'neutral': 17, 'positive': 2}, 57.4], '여행': [{'negative': 2, 'neutral': 14, 'positive': 4}, 49.94]}\n",
      "처리 중인 날짜: 2025-08-20\n",
      "None\n",
      "{'게임': [{'negative': 0, 'neutral': 20, 'positive': 1}, 49.32], '조선': [{'negative': 5, 'neutral': 14, 'positive': 4}, 53.19], '방산': [{'negative': 4, 'neutral': 13, 'positive': 4}, 51.88], '반도체': [{'negative': 16, 'neutral': 21, 'positive': 3}, 47.04], '이차전지': [{'negative': 4, 'neutral': 15, 'positive': 4}, 53.95], '디스플레이': [{'negative': 1, 'neutral': 5, 'positive': 0}, 53.43], '화장품': [{'negative': 2, 'neutral': 9, 'positive': 3}, 55.78], '자동차': [{'negative': 4, 'neutral': 23, 'positive': 13}, 57.36], '건설': [{'negative': 7, 'neutral': 28, 'positive': 4}, 48.02], '철강': [{'negative': 6, 'neutral': 29, 'positive': 2}, 47.61], '화학': [{'negative': 0, 'neutral': 26, 'positive': 6}, 55.58], '엔터': [{'negative': 2, 'neutral': 18, 'positive': 16}, 52.24], '음식료': [{'negative': 4, 'neutral': 17, 'positive': 0}, 47.65], '패션': [{'negative': 0, 'neutral': 4, 'positive': 1}, 56.52], '풍력': [{'negative': 4, 'neutral': 18, 'positive': 8}, 51.67], '원전': [{'negative': 13, 'neutral': 19, 'positive': 6}, 46.33], '바이오': [{'negative': 3, 'neutral': 27, 'positive': 6}, 52.25], '임플란트': [None, None], '피부미용': [{'negative': 4, 'neutral': 5, 'positive': 2}, 51.32], '유통': [{'negative': 1, 'neutral': 25, 'positive': 9}, 60.01], '은행': [{'negative': 8, 'neutral': 29, 'positive': 13}, 48.63], '보험': [{'negative': 1, 'neutral': 8, 'positive': 3}, 50.65], '수소': [{'negative': 1, 'neutral': 9, 'positive': 0}, 51.32], 'IT': [{'negative': 6, 'neutral': 36, 'positive': 7}, 51.15], '전선': [{'negative': 6, 'neutral': 17, 'positive': 9}, 52.22], '여행': [{'negative': 3, 'neutral': 22, 'positive': 2}, 54.52]}\n",
      "처리 중인 날짜: 2025-08-21\n",
      "{'게임': [{'negative': 4, 'neutral': 11, 'positive': 5}, 53.54], '조선': [{'negative': 1, 'neutral': 16, 'positive': 7}, 55.88], '방산': [{'negative': 0, 'neutral': 21, 'positive': 8}, 57.48], '반도체': [{'negative': 0, 'neutral': 24, 'positive': 20}, 61.13], '이차전지': [{'negative': 1, 'neutral': 23, 'positive': 3}, 57.64], '디스플레이': [{'negative': 1, 'neutral': 12, 'positive': 8}, 58.57], '화장품': [{'negative': 2, 'neutral': 12, 'positive': 9}, 58.92], '자동차': [{'negative': 1, 'neutral': 44, 'positive': 7}, 53.16], '건설': [{'negative': 3, 'neutral': 21, 'positive': 11}, 50.06], '철강': [{'negative': 2, 'neutral': 29, 'positive': 14}, 54.61], '화학': [{'negative': 2, 'neutral': 36, 'positive': 3}, 53.96], '엔터': [{'negative': 0, 'neutral': 15, 'positive': 10}, 52.25], '음식료': [{'negative': 0, 'neutral': 19, 'positive': 2}, 53.01], '패션': [{'negative': 2, 'neutral': 0, 'positive': 0}, 35.0], '풍력': [{'negative': 6, 'neutral': 15, 'positive': 10}, 40.08], '원전': [{'negative': 2, 'neutral': 28, 'positive': 12}, 51.58], '바이오': [{'negative': 1, 'neutral': 40, 'positive': 6}, 55.33], '임플란트': [{'negative': 1, 'neutral': 1, 'positive': 0}, 46.12], '피부미용': [{'negative': 1, 'neutral': 13, 'positive': 2}, 53.05], '유통': [{'negative': 1, 'neutral': 25, 'positive': 12}, 57.38], '은행': [{'negative': 10, 'neutral': 29, 'positive': 3}, 51.62], '보험': [{'negative': 0, 'neutral': 12, 'positive': 0}, 41.66], '수소': [{'negative': 0, 'neutral': 5, 'positive': 2}, 58.09], 'IT': [{'negative': 2, 'neutral': 24, 'positive': 8}, 53.26], '전선': [{'negative': 2, 'neutral': 12, 'positive': 16}, 56.36], '여행': [{'negative': 0, 'neutral': 18, 'positive': 4}, 53.2]}\n",
      "처리 중인 날짜: 2025-08-22\n",
      "None\n",
      "{'게임': [{'negative': 1, 'neutral': 10, 'positive': 2}, 54.62], '조선': [{'negative': 3, 'neutral': 14, 'positive': 4}, 56.88], '방산': [{'negative': 0, 'neutral': 22, 'positive': 1}, 52.13], '반도체': [{'negative': 1, 'neutral': 19, 'positive': 16}, 58.9], '이차전지': [{'negative': 3, 'neutral': 14, 'positive': 5}, 53.31], '디스플레이': [{'negative': 0, 'neutral': 9, 'positive': 5}, 58.46], '화장품': [{'negative': 0, 'neutral': 11, 'positive': 6}, 57.25], '자동차': [{'negative': 1, 'neutral': 26, 'positive': 8}, 57.51], '건설': [{'negative': 3, 'neutral': 21, 'positive': 11}, 54.52], '철강': [{'negative': 4, 'neutral': 21, 'positive': 5}, 47.65], '화학': [{'negative': 0, 'neutral': 14, 'positive': 14}, 62.99], '엔터': [{'negative': 0, 'neutral': 15, 'positive': 15}, 60.86], '음식료': [{'negative': 1, 'neutral': 15, 'positive': 2}, 49.27], '패션': [{'negative': 2, 'neutral': 6, 'positive': 1}, 50.89], '풍력': [{'negative': 2, 'neutral': 21, 'positive': 3}, 53.58], '원전': [{'negative': 2, 'neutral': 22, 'positive': 9}, 57.56], '바이오': [{'negative': 2, 'neutral': 29, 'positive': 5}, 53.88], '임플란트': [None, None], '피부미용': [{'negative': 0, 'neutral': 3, 'positive': 4}, 64.09], '유통': [{'negative': 1, 'neutral': 29, 'positive': 9}, 53.14], '은행': [{'negative': 0, 'neutral': 33, 'positive': 6}, 53.88], '보험': [{'negative': 0, 'neutral': 9, 'positive': 3}, 54.65], '수소': [{'negative': 1, 'neutral': 8, 'positive': 3}, 58.83], 'IT': [{'negative': 0, 'neutral': 46, 'positive': 2}, 57.63], '전선': [{'negative': 0, 'neutral': 4, 'positive': 26}, 63.22], '여행': [{'negative': 0, 'neutral': 15, 'positive': 4}, 55.37]}\n",
      "처리 중인 날짜: 2025-08-23\n",
      "None\n",
      "{'게임': [{'negative': 0, 'neutral': 2, 'positive': 4}, 63.59], '조선': [{'negative': 1, 'neutral': 2, 'positive': 2}, 59.75], '방산': [{'negative': 0, 'neutral': 6, 'positive': 4}, 60.54], '반도체': [{'negative': 0, 'neutral': 8, 'positive': 5}, 62.16], '이차전지': [{'negative': 3, 'neutral': 6, 'positive': 0}, 49.11], '디스플레이': [{'negative': 0, 'neutral': 3, 'positive': 0}, 51.81], '화장품': [{'negative': 0, 'neutral': 5, 'positive': 1}, 58.96], '자동차': [{'negative': 3, 'neutral': 8, 'positive': 7}, 60.01], '건설': [{'negative': 2, 'neutral': 6, 'positive': 1}, 53.65], '철강': [{'negative': 3, 'neutral': 8, 'positive': 2}, 52.39], '화학': [{'negative': 0, 'neutral': 7, 'positive': 0}, 54.58], '엔터': [{'negative': 0, 'neutral': 8, 'positive': 2}, 57.92], '음식료': [{'negative': 0, 'neutral': 2, 'positive': 0}, 50.33], '패션': [{'negative': 0, 'neutral': 1, 'positive': 0}, 50.0], '풍력': [{'negative': 3, 'neutral': 8, 'positive': 2}, 54.9], '원전': [{'negative': 1, 'neutral': 6, 'positive': 3}, 56.46], '바이오': [{'negative': 0, 'neutral': 10, 'positive': 3}, 57.43], '임플란트': [None, None], '피부미용': [{'negative': 0, 'neutral': 2, 'positive': 1}, 53.66], '유통': [{'negative': 0, 'neutral': 8, 'positive': 5}, 60.21], '은행': [{'negative': 1, 'neutral': 7, 'positive': 2}, 53.15], '보험': [{'negative': 0, 'neutral': 1, 'positive': 1}, 55.5], '수소': [{'negative': 0, 'neutral': 6, 'positive': 4}, 62.73], 'IT': [{'negative': 3, 'neutral': 21, 'positive': 7}, 56.23], '전선': [{'negative': 0, 'neutral': 4, 'positive': 7}, 60.51], '여행': [{'negative': 0, 'neutral': 5, 'positive': 5}, 65.1]}\n"
     ]
    }
   ],
   "source": [
    "from datetime import datetime, timedelta\n",
    "\n",
    "def process_date_range(start_date, end_date):\n",
    "    \"\"\"날짜 범위와 섹터들을 처리하는 함수\"\"\"\n",
    "    start = datetime.strptime(start_date, \"%Y-%m-%d\")\n",
    "    end = datetime.strptime(end_date, \"%Y-%m-%d\")\n",
    "    \n",
    "    current_date = start\n",
    "    \n",
    "    while current_date <= end:\n",
    "        today_str = current_date.strftime(\"%Y-%m-%d\")\n",
    "        print(f\"처리 중인 날짜: {today_str}\")\n",
    "        \n",
    "        data = main_algoritm(db,today_str)\n",
    "        write_db(db,data,today_str)\n",
    "        \n",
    "        current_date += timedelta(days=1)\n",
    "\n",
    "# 사용\n",
    "# start_date = \"2025-05-23\"\n",
    "start_date = \"2025-08-19\"\n",
    "end_date = \"2025-08-23\"\n",
    "process_date_range(start_date, end_date)\n",
    "\n",
    "\n",
    "\n"
   ]
  },
  {
   "cell_type": "markdown",
   "id": "dddb51b7",
   "metadata": {},
   "source": []
  },
  {
   "cell_type": "code",
   "execution_count": null,
   "id": "b436726b",
   "metadata": {},
   "outputs": [],
   "source": []
  },
  {
   "cell_type": "code",
   "execution_count": null,
   "id": "3eddcece",
   "metadata": {},
   "outputs": [],
   "source": []
  },
  {
   "cell_type": "code",
   "execution_count": null,
   "metadata": {},
   "outputs": [],
   "source": []
  },
  {
   "cell_type": "code",
   "execution_count": null,
   "metadata": {},
   "outputs": [],
   "source": []
  },
  {
   "cell_type": "code",
   "execution_count": null,
   "metadata": {},
   "outputs": [],
   "source": []
  },
  {
   "cell_type": "code",
   "execution_count": null,
   "metadata": {},
   "outputs": [],
   "source": []
  },
  {
   "cell_type": "code",
   "execution_count": null,
   "metadata": {},
   "outputs": [],
   "source": []
  },
  {
   "cell_type": "code",
   "execution_count": null,
   "metadata": {},
   "outputs": [],
   "source": []
  },
  {
   "cell_type": "code",
   "execution_count": null,
   "id": "42925aea",
   "metadata": {},
   "outputs": [],
   "source": []
  },
  {
   "cell_type": "code",
   "execution_count": null,
   "id": "41c527ce",
   "metadata": {},
   "outputs": [],
   "source": []
  },
  {
   "cell_type": "code",
   "execution_count": null,
   "id": "564756bd",
   "metadata": {},
   "outputs": [],
   "source": []
  }
 ],
 "metadata": {
  "kernelspec": {
   "display_name": ".venv",
   "language": "python",
   "name": "python3"
  },
  "language_info": {
   "codemirror_mode": {
    "name": "ipython",
    "version": 3
   },
   "file_extension": ".py",
   "mimetype": "text/x-python",
   "name": "python",
   "nbconvert_exporter": "python",
   "pygments_lexer": "ipython3",
   "version": "3.13.2"
  }
 },
 "nbformat": 4,
 "nbformat_minor": 5
}
