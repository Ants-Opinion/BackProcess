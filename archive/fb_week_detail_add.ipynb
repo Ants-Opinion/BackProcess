{
 "cells": [
  {
   "cell_type": "markdown",
   "id": "acae6404",
   "metadata": {},
   "source": [
    "## 내용\n",
    "\n",
    "매주 월요일 오전 6시 기준 전주의 데이터를 축적하여 개수의 합을 구하고 summary를 제미나이를 통해서 다시 도출\n",
    "\n",
    "### 방법\n",
    "1. sector_detail/\"섹터\"/dates/\"[해당 주차 월요일 일자]\"(월-일) 불러오기 \n",
    "2. summary, counts를 축적시키기\n",
    "3. 축적된 summary 제미나이에게 보내서 축약하기\n",
    "4. weeks에 저장\n"
   ]
  },
  {
   "cell_type": "code",
   "execution_count": 1,
   "id": "0e0d4eaf",
   "metadata": {},
   "outputs": [],
   "source": [
    "## 시스템 import 위치 지정\n",
    "import sys\n",
    "from pathlib import Path\n",
    "\n",
    "# back 디렉토리를 sys.path에 추가\n",
    "back_dir = Path(__file__).parent.parent if '__file__' in globals() else Path().resolve().parent\n",
    "sys.path.append(str(back_dir))"
   ]
  },
  {
   "cell_type": "code",
   "execution_count": 2,
   "id": "c902b4ad",
   "metadata": {},
   "outputs": [],
   "source": [
    "## sectors 불러오기\n",
    "from data.telegram_raw_datas import sectors\n",
    "\n",
    "sectors = sectors.keys()"
   ]
  },
  {
   "cell_type": "code",
   "execution_count": 3,
   "id": "086c5580",
   "metadata": {},
   "outputs": [],
   "source": [
    "from scripts.firebase.auth import firebase_auth\n",
    "\n",
    "db = firebase_auth()"
   ]
  },
  {
   "cell_type": "code",
   "execution_count": 4,
   "id": "6e27bca2",
   "metadata": {},
   "outputs": [
    {
     "name": "stdout",
     "output_type": "stream",
     "text": [
      "2025-08-18\n",
      "2025-08-19\n",
      "2025-08-20\n",
      "2025-08-21\n",
      "2025-08-22\n",
      "2025-08-23\n",
      "2025-08-24\n"
     ]
    }
   ],
   "source": [
    "from datetime import datetime, timedelta\n",
    "\n",
    "\n",
    "# 해당일자의 전주 월요일을 받기 위한 함수\n",
    "## input, output 값: datetime 형식의 날짜\n",
    "def get_last_monday(date): \n",
    "    days_to_this_monday = date.weekday()\n",
    "    last_monday = date - timedelta(days=days_to_this_monday + 7)\n",
    "    return last_monday\n",
    "\n",
    "date = datetime.now()\n",
    "\n",
    "for i in range(7):\n",
    "    last_monday = get_last_monday(date)\n",
    "    current_date = last_monday + timedelta(days=i)\n",
    "    print(current_date.strftime(\"%Y-%m-%d\"))\n"
   ]
  },
  {
   "cell_type": "code",
   "execution_count": 21,
   "id": "fe34971c",
   "metadata": {},
   "outputs": [
    {
     "name": "stderr",
     "output_type": "stream",
     "text": [
      "/Users/apple/Desktop/project/ADA/antopinion/back/.venv/lib/python3.13/site-packages/tqdm/auto.py:21: TqdmWarning: IProgress not found. Please update jupyter and ipywidgets. See https://ipywidgets.readthedocs.io/en/stable/user_install.html\n",
      "  from .autonotebook import tqdm as notebook_tqdm\n"
     ]
    }
   ],
   "source": [
    "from scripts.gemini.ask_gemini import GeminiClient\n",
    "\n",
    "gemini_client = GeminiClient()"
   ]
  },
  {
   "cell_type": "code",
   "execution_count": null,
   "id": "7acddc93",
   "metadata": {},
   "outputs": [],
   "source": [
    "def sum_counts(sector_details):\n",
    "    total_negative = 0\n",
    "    total_positive = 0\n",
    "    total_neutral = 0\n",
    "    for detail in sector_details:\n",
    "        if detail and 'counts' in detail:\n",
    "            counts = detail['counts']\n",
    "            total_negative += counts.get('negative', 0)\n",
    "            total_neutral += counts.get('neutral', 0)\n",
    "            total_positive += counts.get('positive', 0)\n",
    "    \n",
    "    return {\n",
    "        'negative': total_negative,\n",
    "        'neutral': total_neutral,\n",
    "        'positive': total_positive\n",
    "    }"
   ]
  },
  {
   "cell_type": "code",
   "execution_count": 23,
   "id": "afc5907e",
   "metadata": {},
   "outputs": [],
   "source": [
    "def sum_details(sector_details):\n",
    "    total_ideas = []\n",
    "    for detail in sector_details:\n",
    "        if detail and 'summary' in detail:\n",
    "            summary = detail['summary']\n",
    "            total_ideas.append(summary)\n",
    "    return str(total_ideas)\n"
   ]
  },
  {
   "cell_type": "code",
   "execution_count": 28,
   "id": "670d586e",
   "metadata": {},
   "outputs": [],
   "source": [
    "def get_sector_details(date):\n",
    "    for sector in sectors:\n",
    "        sector_details = []\n",
    "        last_monday = get_last_monday(date)\n",
    "        for i in range(7):\n",
    "            current_date = last_monday + timedelta(days=i)\n",
    "            current_date_str = current_date.strftime(\"%Y-%m-%d\")\n",
    "            sector_detail = db.collection('sector_detail').document(sector).collection('dates').document(current_date_str).get().to_dict()\n",
    "            sector_details.append(sector_detail)\n",
    "        ans = gemini_client.ask_week(sector, sum_details(sector_details))\n",
    "        print(ans)\n",
    "        print(\"--------------------------------\")"
   ]
  },
  {
   "cell_type": "code",
   "execution_count": 29,
   "id": "e6c559f3",
   "metadata": {},
   "outputs": [
    {
     "name": "stdout",
     "output_type": "stream",
     "text": [
      "{'summary': {'positive': {'headline': '게임스컴 & 한한령 완화 기대감에 게임/엔터 업종 투자 심리 개선', 'summary': '세계 최대 게임 전시회 게임스컴 개최와 중국의 드라마 쿼터 제한 완화 소식에 게임 및 엔터테인먼트 업종에 대한 기대감이 높아지고 있습니다. 펍지 IP의 견조한 성과와 신작 기대감이 투자 심리를 자극하며, 특히 중국 시장 진출 가능성 재부각이 긍정적으로 작용하고 있습니다.'}, 'neutral': {'headline': '게임 산업, 긍정과 부정 요인 혼재…신중한 접근 필요', 'summary': '게임 산업에 대한 다양한 정보와 분석이 공유되고 있지만, 전반적인 투자 심리는 중립적인 경향을 보입니다. 게임 개발 및 관련 산업에 대한 뉴스와 시장 동향이 전달되나, 뚜렷한 매수 또는 매도 의견은 제시되지 않고 있습니다. 투자자들은 성장 가능성과 위험 요인을 신중하게 고려하고 있습니다.'}, 'negative': {'headline': '붉은사막 출시 연기 우려 지속, 펄어비스 투자 심리 악화', 'summary': \"펄어비스의 신작 '붉은사막' 출시 연기에 대한 우려가 지속되면서 투자 심리가 악화되고 있습니다. 출시 불확실성 장기화에 따른 투자자 신뢰 하락과 출시 이후 경쟁력에 대한 의문이 제기되며 펄어비스 투자 매력이 감소하고 있다는 평가입니다.\"}}}\n",
      "--------------------------------\n",
      "{'summary': {'positive': {'headline': '조선업, 한미 협력 기대감 속 상승 모멘텀 지속', 'summary': '조선업은 한미 정상회담 및 관련 경제 사절단 구성, 대통령의 조선소 시찰 예정 등 긍정적인 모멘텀이 이어지고 있습니다. 특히 미국 MASGA 프로젝트를 통한 수혜 기대감과 노후 LNG선 교체 수요 증가, LNG 운반선 시장의 호황 등이 투자 심리를 자극하고 있습니다. 다만, 노란봉투법과 같은 국내 규제 환경은 신속한 납기라는 강점을 약화시킬 수 있다는 우려도 존재합니다. 전반적으로 조선업에 대한 긍정적인 전망이 우세하며, 관련 기업들의 수주 증가와 실적 개선에 대한 기대감이 높습니다.'}, 'neutral': {'headline': '조선업, 긍정적 전망 속 불확실성 혼재', 'summary': \"조선업은 긍정적인 요인과 함께 불확실성이 공존하고 있습니다. 수출 데이터는 탱커, 화물선 등 주요 선종의 견조한 흐름을 보여주지만, 미국 MASGA 프로젝트 참여, 한미 협력의 실제적인 성과 여부, 국내 규제 환경 변화 등은 여전히 지켜봐야 할 변수입니다. 일부 채널에서는 펀더멘털 기반의 '줍줍' 전략을 제시하며 하락 시 매수 기회를 엿볼 것을 조언하고 있습니다. 투자자들은 시장 상황을 예의주시하며 신중하게 접근할 필요가 있습니다.\"}, 'negative': {'headline': '규제 리스크, 조선업 성장 발목 잡나', 'summary': '일부 채널에서는 조선업에 대한 우려도 제기되고 있습니다. 특히 노란봉투법과 같은 국내 규제 환경이 강화될 경우, 신속한 납기라는 조선업의 강점이 사라질 수 있다는 지적이 있습니다. 또한, 한미 협력 기대감에도 불구하고, 실제 수주 연결 여부와 미국의 자국 우선주의 정책 변화 가능성 등 불확실성이 존재합니다. 투자자들은 이러한 리스크 요인을 고려하여 신중하게 투자 결정을 내릴 필요가 있습니다.'}}}\n",
      "--------------------------------\n",
      "{'summary': {'positive': {'headline': 'K-방산, 글로벌 시장 공략 가속화… 2035년 톱5 목표', 'summary': '현대로템의 폴란드 K2 전차 수출 사업을 기반으로 K-방산의 글로벌 경쟁력이 강화될 것이라는 기대감이 높습니다. K2 전차의 우수한 성능과 가동률은 폴란드군으로부터 긍정적인 평가를 받고 있으며, 이는 루마니아, 중동 등 다른 국가로의 수출 확대로 이어질 가능성을 시사합니다. 다만, 유럽 내 재무장 움직임과 K-방산에 대한 견제 등 위협 요인에 대한 지속적인 대응이 필요하며, 기술 경쟁력 확보와 국방 협력을 통해 글로벌 시장 점유율을 확대해나가는 전략이 중요합니다.'}, 'neutral': {'headline': '조선·방산, 시장 변동성 속 관망세…기회는?', 'summary': '조선과 방산 섹터는 잭슨홀 미팅, 금리 변동, 정책 변화 등 다양한 외부 요인에 의해 변동성이 커지고 있습니다. 긍정적인 전망과 부정적인 우려가 혼재된 상황 속에서 투자자들은 신중한 태도를 유지하고 있습니다. 시장 상황을 예의주시하며, 분할 매수 전략 등을 통해 리스크를 관리하는 것이 중요합니다.'}, 'negative': {'headline': '러-우 종전 협상 가능성 제기, 방산주 투자 심리 위축 우려', 'summary': '러시아와 우크라이나 간의 종전 협상 가능성이 조심스럽게 제기되면서, 방산주에 대한 투자 심리가 다소 위축될 수 있다는 분석이 나오고 있습니다. 특히 트럼프 대통령이 우크라이나에게 영토 양보를 제안할 수 있다는 전망은 투자자들의 불안감을 증폭시키고 있습니다. 다만, 아직까지 협상 과정이 초기 단계에 머물러 있고, 유럽의 방위력 강화 움직임이 지속되고 있다는 점을 고려할 때, 방산주에 대한 과도한 비관론은 경계해야 할 필요가 있습니다.'}}}\n",
      "--------------------------------\n",
      "{'summary': {'positive': {'headline': '반도체, HBM 투자 확대 및 수출 회복세 힘입어 성장 기대감 확산', 'summary': '반도체 산업은 HBM(고대역폭 메모리) 투자 확대와 DRAM, NAND의 선단 공정 전환, 그리고 최근 뚜렷한 수출 회복세에 힘입어 긍정적인 전망이 우세합니다. 특히 삼성전자의 HBM4 샘플 엔비디아 합격 소식은 기대감을 높이고 있으며, 2026년 이후 HBM을 중심으로 구조적인 성장이 예상됩니다. 또한, 파운드리향 소재 공급 기대감과 DRAM 시장의 강세 지속, OLED 시장의 성수기 진입으로 하반기 실적 가시성이 높다는 분석입니다.'}, 'neutral': {'headline': '반도체 시장, 미·중 관계 및 금리 변동 속 혼조세 지속', 'summary': '반도체 시장은 잭슨홀 미팅과 금리인하에 대한 불확실성, 미·중 관계, 글로벌 경기 침체 등 다양한 외부 요인에 민감하게 반응하며 혼조세를 보이고 있습니다. 투자자들은 주요 이벤트들을 주시하며 신중한 투자 결정을 내릴 필요가 있으며, 긍정적 요소와 부정적 요소가 혼재되어 시장 변동성이 증폭될 수 있습니다. AI 성장과 지정학적 리스크 속에서 투자 심리를 위축시키는 요인도 상존합니다.'}, 'negative': {'headline': '미국 정부의 반도체 산업 압박 심화, 투자 심리 위축 우려', 'summary': '미국 정부가 반도체 기업에 대한 보조금 지급 조건으로 지분 확보를 추진하면서 경영 간섭 및 이해 충돌 우려가 제기되고 있으며, 트럼프 대통령의 반도체 관세 부과 가능성 또한 투자 심리를 위축시키고 있습니다. 엔비디아의 HBM 시장 지배력 강화 움직임은 SK하이닉스의 입지를 위협할 수 있으며, 미국과 EU 간의 무역 합의로 인해 국내 기업들이 불리한 위치에 놓일 수 있다는 분석도 제기됩니다.'}}}\n",
      "--------------------------------\n",
      "{'summary': {'positive': {'headline': 'K-배터리, 내연차 전환 지원 정책 힘입어 성장 기대', 'summary': '정부의 전기차 보조금 정책 변화와 K-배터리의 기술 경쟁력을 바탕으로 이차전지 산업의 성장이 긍정적으로 전망됩니다. 특히 내연기관차에서 전기차로 전환을 지원하는 정책이 K-배터리 시장에 긍정적인 영향을 미칠 것으로 예상됩니다.'}, 'neutral': {'headline': \"미국/중국 정책 변화, 원자재 가격 변동 등 이차전지 시장 '혼조세'\", 'summary': '미국 에너지부의 핵심 광물 공급망 강화 정책과 중국의 희토류 재고 비축 금지령 등 정책 변화가 잇따르고 있습니다. 중국 철강 선물 가격 변동 등 원자재 가격 변동도 시장에 영향을 주고 있습니다.'}, 'negative': {'headline': '보조금 축소, 관세 부과 등 악재 산적, 이차전지 쇼크 지속 우려', 'summary': '미국 BEV 보조금 지급 폐지, EU 내 LFP 침투율 증가, 관세 부과에 따른 생산비용 증가 등은 국내 배터리 기업들의 영업실적에 부정적인 영향을 미칠 수 있습니다. 특히, 트럼프 행정부의 반도체 관세 부과 가능성 언급은 관련 시장의 불안감을 증폭시키고 있습니다.'}}}\n",
      "--------------------------------\n"
     ]
    },
    {
     "ename": "KeyboardInterrupt",
     "evalue": "",
     "output_type": "error",
     "traceback": [
      "\u001b[31m---------------------------------------------------------------------------\u001b[39m",
      "\u001b[31mKeyboardInterrupt\u001b[39m                         Traceback (most recent call last)",
      "\u001b[36mCell\u001b[39m\u001b[36m \u001b[39m\u001b[32mIn[29]\u001b[39m\u001b[32m, line 1\u001b[39m\n\u001b[32m----> \u001b[39m\u001b[32m1\u001b[39m \u001b[43mget_sector_details\u001b[49m\u001b[43m(\u001b[49m\u001b[43mdate\u001b[49m\u001b[43m)\u001b[49m\n",
      "\u001b[36mCell\u001b[39m\u001b[36m \u001b[39m\u001b[32mIn[28]\u001b[39m\u001b[32m, line 8\u001b[39m, in \u001b[36mget_sector_details\u001b[39m\u001b[34m(date)\u001b[39m\n\u001b[32m      6\u001b[39m     current_date = last_monday + timedelta(days=i)\n\u001b[32m      7\u001b[39m     current_date_str = current_date.strftime(\u001b[33m\"\u001b[39m\u001b[33m%\u001b[39m\u001b[33mY-\u001b[39m\u001b[33m%\u001b[39m\u001b[33mm-\u001b[39m\u001b[38;5;132;01m%d\u001b[39;00m\u001b[33m\"\u001b[39m)\n\u001b[32m----> \u001b[39m\u001b[32m8\u001b[39m     sector_detail = \u001b[43mdb\u001b[49m\u001b[43m.\u001b[49m\u001b[43mcollection\u001b[49m\u001b[43m(\u001b[49m\u001b[33;43m'\u001b[39;49m\u001b[33;43msector_detail\u001b[39;49m\u001b[33;43m'\u001b[39;49m\u001b[43m)\u001b[49m\u001b[43m.\u001b[49m\u001b[43mdocument\u001b[49m\u001b[43m(\u001b[49m\u001b[43msector\u001b[49m\u001b[43m)\u001b[49m\u001b[43m.\u001b[49m\u001b[43mcollection\u001b[49m\u001b[43m(\u001b[49m\u001b[33;43m'\u001b[39;49m\u001b[33;43mdates\u001b[39;49m\u001b[33;43m'\u001b[39;49m\u001b[43m)\u001b[49m\u001b[43m.\u001b[49m\u001b[43mdocument\u001b[49m\u001b[43m(\u001b[49m\u001b[43mcurrent_date_str\u001b[49m\u001b[43m)\u001b[49m\u001b[43m.\u001b[49m\u001b[43mget\u001b[49m\u001b[43m(\u001b[49m\u001b[43m)\u001b[49m.to_dict()\n\u001b[32m      9\u001b[39m     sector_details.append(sector_detail)\n\u001b[32m     10\u001b[39m ans = gemini_client.ask_week(sector, sum_details(sector_details))\n",
      "\u001b[36mFile \u001b[39m\u001b[32m~/Desktop/project/ADA/antopinion/back/.venv/lib/python3.13/site-packages/google/cloud/firestore_v1/document.py:403\u001b[39m, in \u001b[36mDocumentReference.get\u001b[39m\u001b[34m(self, field_paths, transaction, retry, timeout)\u001b[39m\n\u001b[32m    399\u001b[39m \u001b[38;5;28;01mfrom\u001b[39;00m\u001b[38;5;250m \u001b[39m\u001b[34;01mgoogle\u001b[39;00m\u001b[34;01m.\u001b[39;00m\u001b[34;01mcloud\u001b[39;00m\u001b[34;01m.\u001b[39;00m\u001b[34;01mfirestore_v1\u001b[39;00m\u001b[34;01m.\u001b[39;00m\u001b[34;01mbase_client\u001b[39;00m\u001b[38;5;250m \u001b[39m\u001b[38;5;28;01mimport\u001b[39;00m _parse_batch_get\n\u001b[32m    401\u001b[39m request, kwargs = \u001b[38;5;28mself\u001b[39m._prep_batch_get(field_paths, transaction, retry, timeout)\n\u001b[32m--> \u001b[39m\u001b[32m403\u001b[39m response_iter = \u001b[38;5;28;43mself\u001b[39;49m\u001b[43m.\u001b[49m\u001b[43m_client\u001b[49m\u001b[43m.\u001b[49m\u001b[43m_firestore_api\u001b[49m\u001b[43m.\u001b[49m\u001b[43mbatch_get_documents\u001b[49m\u001b[43m(\u001b[49m\n\u001b[32m    404\u001b[39m \u001b[43m    \u001b[49m\u001b[43mrequest\u001b[49m\u001b[43m=\u001b[49m\u001b[43mrequest\u001b[49m\u001b[43m,\u001b[49m\n\u001b[32m    405\u001b[39m \u001b[43m    \u001b[49m\u001b[43mmetadata\u001b[49m\u001b[43m=\u001b[49m\u001b[38;5;28;43mself\u001b[39;49m\u001b[43m.\u001b[49m\u001b[43m_client\u001b[49m\u001b[43m.\u001b[49m\u001b[43m_rpc_metadata\u001b[49m\u001b[43m,\u001b[49m\n\u001b[32m    406\u001b[39m \u001b[43m    \u001b[49m\u001b[43m*\u001b[49m\u001b[43m*\u001b[49m\u001b[43mkwargs\u001b[49m\u001b[43m,\u001b[49m\n\u001b[32m    407\u001b[39m \u001b[43m\u001b[49m\u001b[43m)\u001b[49m\n\u001b[32m    409\u001b[39m get_doc_response = \u001b[38;5;28mnext\u001b[39m(response_iter, \u001b[38;5;28;01mNone\u001b[39;00m)\n\u001b[32m    411\u001b[39m \u001b[38;5;28;01mif\u001b[39;00m get_doc_response \u001b[38;5;129;01mis\u001b[39;00m \u001b[38;5;129;01mnot\u001b[39;00m \u001b[38;5;28;01mNone\u001b[39;00m:\n",
      "\u001b[36mFile \u001b[39m\u001b[32m~/Desktop/project/ADA/antopinion/back/.venv/lib/python3.13/site-packages/google/cloud/firestore_v1/services/firestore/client.py:1202\u001b[39m, in \u001b[36mFirestoreClient.batch_get_documents\u001b[39m\u001b[34m(self, request, retry, timeout, metadata)\u001b[39m\n\u001b[32m   1199\u001b[39m \u001b[38;5;28mself\u001b[39m._validate_universe_domain()\n\u001b[32m   1201\u001b[39m \u001b[38;5;66;03m# Send the request.\u001b[39;00m\n\u001b[32m-> \u001b[39m\u001b[32m1202\u001b[39m response = \u001b[43mrpc\u001b[49m\u001b[43m(\u001b[49m\n\u001b[32m   1203\u001b[39m \u001b[43m    \u001b[49m\u001b[43mrequest\u001b[49m\u001b[43m,\u001b[49m\n\u001b[32m   1204\u001b[39m \u001b[43m    \u001b[49m\u001b[43mretry\u001b[49m\u001b[43m=\u001b[49m\u001b[43mretry\u001b[49m\u001b[43m,\u001b[49m\n\u001b[32m   1205\u001b[39m \u001b[43m    \u001b[49m\u001b[43mtimeout\u001b[49m\u001b[43m=\u001b[49m\u001b[43mtimeout\u001b[49m\u001b[43m,\u001b[49m\n\u001b[32m   1206\u001b[39m \u001b[43m    \u001b[49m\u001b[43mmetadata\u001b[49m\u001b[43m=\u001b[49m\u001b[43mmetadata\u001b[49m\u001b[43m,\u001b[49m\n\u001b[32m   1207\u001b[39m \u001b[43m\u001b[49m\u001b[43m)\u001b[49m\n\u001b[32m   1209\u001b[39m \u001b[38;5;66;03m# Done; return the response.\u001b[39;00m\n\u001b[32m   1210\u001b[39m \u001b[38;5;28;01mreturn\u001b[39;00m response\n",
      "\u001b[36mFile \u001b[39m\u001b[32m~/Desktop/project/ADA/antopinion/back/.venv/lib/python3.13/site-packages/google/api_core/gapic_v1/method.py:131\u001b[39m, in \u001b[36m_GapicCallable.__call__\u001b[39m\u001b[34m(self, timeout, retry, compression, *args, **kwargs)\u001b[39m\n\u001b[32m    128\u001b[39m \u001b[38;5;28;01mif\u001b[39;00m \u001b[38;5;28mself\u001b[39m._compression \u001b[38;5;129;01mis\u001b[39;00m \u001b[38;5;129;01mnot\u001b[39;00m \u001b[38;5;28;01mNone\u001b[39;00m:\n\u001b[32m    129\u001b[39m     kwargs[\u001b[33m\"\u001b[39m\u001b[33mcompression\u001b[39m\u001b[33m\"\u001b[39m] = compression\n\u001b[32m--> \u001b[39m\u001b[32m131\u001b[39m \u001b[38;5;28;01mreturn\u001b[39;00m \u001b[43mwrapped_func\u001b[49m\u001b[43m(\u001b[49m\u001b[43m*\u001b[49m\u001b[43margs\u001b[49m\u001b[43m,\u001b[49m\u001b[43m \u001b[49m\u001b[43m*\u001b[49m\u001b[43m*\u001b[49m\u001b[43mkwargs\u001b[49m\u001b[43m)\u001b[49m\n",
      "\u001b[36mFile \u001b[39m\u001b[32m~/Desktop/project/ADA/antopinion/back/.venv/lib/python3.13/site-packages/google/api_core/retry/retry_unary.py:294\u001b[39m, in \u001b[36mRetry.__call__.<locals>.retry_wrapped_func\u001b[39m\u001b[34m(*args, **kwargs)\u001b[39m\n\u001b[32m    290\u001b[39m target = functools.partial(func, *args, **kwargs)\n\u001b[32m    291\u001b[39m sleep_generator = exponential_sleep_generator(\n\u001b[32m    292\u001b[39m     \u001b[38;5;28mself\u001b[39m._initial, \u001b[38;5;28mself\u001b[39m._maximum, multiplier=\u001b[38;5;28mself\u001b[39m._multiplier\n\u001b[32m    293\u001b[39m )\n\u001b[32m--> \u001b[39m\u001b[32m294\u001b[39m \u001b[38;5;28;01mreturn\u001b[39;00m \u001b[43mretry_target\u001b[49m\u001b[43m(\u001b[49m\n\u001b[32m    295\u001b[39m \u001b[43m    \u001b[49m\u001b[43mtarget\u001b[49m\u001b[43m,\u001b[49m\n\u001b[32m    296\u001b[39m \u001b[43m    \u001b[49m\u001b[38;5;28;43mself\u001b[39;49m\u001b[43m.\u001b[49m\u001b[43m_predicate\u001b[49m\u001b[43m,\u001b[49m\n\u001b[32m    297\u001b[39m \u001b[43m    \u001b[49m\u001b[43msleep_generator\u001b[49m\u001b[43m,\u001b[49m\n\u001b[32m    298\u001b[39m \u001b[43m    \u001b[49m\u001b[43mtimeout\u001b[49m\u001b[43m=\u001b[49m\u001b[38;5;28;43mself\u001b[39;49m\u001b[43m.\u001b[49m\u001b[43m_timeout\u001b[49m\u001b[43m,\u001b[49m\n\u001b[32m    299\u001b[39m \u001b[43m    \u001b[49m\u001b[43mon_error\u001b[49m\u001b[43m=\u001b[49m\u001b[43mon_error\u001b[49m\u001b[43m,\u001b[49m\n\u001b[32m    300\u001b[39m \u001b[43m\u001b[49m\u001b[43m)\u001b[49m\n",
      "\u001b[36mFile \u001b[39m\u001b[32m~/Desktop/project/ADA/antopinion/back/.venv/lib/python3.13/site-packages/google/api_core/retry/retry_unary.py:147\u001b[39m, in \u001b[36mretry_target\u001b[39m\u001b[34m(target, predicate, sleep_generator, timeout, on_error, exception_factory, **kwargs)\u001b[39m\n\u001b[32m    145\u001b[39m \u001b[38;5;28;01mwhile\u001b[39;00m \u001b[38;5;28;01mTrue\u001b[39;00m:\n\u001b[32m    146\u001b[39m     \u001b[38;5;28;01mtry\u001b[39;00m:\n\u001b[32m--> \u001b[39m\u001b[32m147\u001b[39m         result = \u001b[43mtarget\u001b[49m\u001b[43m(\u001b[49m\u001b[43m)\u001b[49m\n\u001b[32m    148\u001b[39m         \u001b[38;5;28;01mif\u001b[39;00m inspect.isawaitable(result):\n\u001b[32m    149\u001b[39m             warnings.warn(_ASYNC_RETRY_WARNING)\n",
      "\u001b[36mFile \u001b[39m\u001b[32m~/Desktop/project/ADA/antopinion/back/.venv/lib/python3.13/site-packages/google/api_core/timeout.py:130\u001b[39m, in \u001b[36mTimeToDeadlineTimeout.__call__.<locals>.func_with_timeout\u001b[39m\u001b[34m(*args, **kwargs)\u001b[39m\n\u001b[32m    126\u001b[39m         remaining_timeout = \u001b[38;5;28mself\u001b[39m._timeout\n\u001b[32m    128\u001b[39m     kwargs[\u001b[33m\"\u001b[39m\u001b[33mtimeout\u001b[39m\u001b[33m\"\u001b[39m] = remaining_timeout\n\u001b[32m--> \u001b[39m\u001b[32m130\u001b[39m \u001b[38;5;28;01mreturn\u001b[39;00m \u001b[43mfunc\u001b[49m\u001b[43m(\u001b[49m\u001b[43m*\u001b[49m\u001b[43margs\u001b[49m\u001b[43m,\u001b[49m\u001b[43m \u001b[49m\u001b[43m*\u001b[49m\u001b[43m*\u001b[49m\u001b[43mkwargs\u001b[49m\u001b[43m)\u001b[49m\n",
      "\u001b[36mFile \u001b[39m\u001b[32m~/Desktop/project/ADA/antopinion/back/.venv/lib/python3.13/site-packages/google/api_core/grpc_helpers.py:170\u001b[39m, in \u001b[36m_wrap_stream_errors.<locals>.error_remapped_callable\u001b[39m\u001b[34m(*args, **kwargs)\u001b[39m\n\u001b[32m    165\u001b[39m     \u001b[38;5;66;03m# Auto-fetching the first result causes PubSub client's streaming pull\u001b[39;00m\n\u001b[32m    166\u001b[39m     \u001b[38;5;66;03m# to hang when re-opening the stream, thus we need examine the hacky\u001b[39;00m\n\u001b[32m    167\u001b[39m     \u001b[38;5;66;03m# hidden flag to see if pre-fetching is disabled.\u001b[39;00m\n\u001b[32m    168\u001b[39m     \u001b[38;5;66;03m# https://github.com/googleapis/python-pubsub/issues/93#issuecomment-630762257\u001b[39;00m\n\u001b[32m    169\u001b[39m     prefetch_first = \u001b[38;5;28mgetattr\u001b[39m(callable_, \u001b[33m\"\u001b[39m\u001b[33m_prefetch_first_result_\u001b[39m\u001b[33m\"\u001b[39m, \u001b[38;5;28;01mTrue\u001b[39;00m)\n\u001b[32m--> \u001b[39m\u001b[32m170\u001b[39m     \u001b[38;5;28;01mreturn\u001b[39;00m \u001b[43m_StreamingResponseIterator\u001b[49m\u001b[43m(\u001b[49m\n\u001b[32m    171\u001b[39m \u001b[43m        \u001b[49m\u001b[43mresult\u001b[49m\u001b[43m,\u001b[49m\u001b[43m \u001b[49m\u001b[43mprefetch_first_result\u001b[49m\u001b[43m=\u001b[49m\u001b[43mprefetch_first\u001b[49m\n\u001b[32m    172\u001b[39m \u001b[43m    \u001b[49m\u001b[43m)\u001b[49m\n\u001b[32m    173\u001b[39m \u001b[38;5;28;01mexcept\u001b[39;00m grpc.RpcError \u001b[38;5;28;01mas\u001b[39;00m exc:\n\u001b[32m    174\u001b[39m     \u001b[38;5;28;01mraise\u001b[39;00m exceptions.from_grpc_error(exc) \u001b[38;5;28;01mfrom\u001b[39;00m\u001b[38;5;250m \u001b[39m\u001b[34;01mexc\u001b[39;00m\n",
      "\u001b[36mFile \u001b[39m\u001b[32m~/Desktop/project/ADA/antopinion/back/.venv/lib/python3.13/site-packages/google/api_core/grpc_helpers.py:92\u001b[39m, in \u001b[36m_StreamingResponseIterator.__init__\u001b[39m\u001b[34m(self, wrapped, prefetch_first_result)\u001b[39m\n\u001b[32m     90\u001b[39m \u001b[38;5;28;01mtry\u001b[39;00m:\n\u001b[32m     91\u001b[39m     \u001b[38;5;28;01mif\u001b[39;00m prefetch_first_result:\n\u001b[32m---> \u001b[39m\u001b[32m92\u001b[39m         \u001b[38;5;28mself\u001b[39m._stored_first_result = \u001b[38;5;28;43mnext\u001b[39;49m\u001b[43m(\u001b[49m\u001b[38;5;28;43mself\u001b[39;49m\u001b[43m.\u001b[49m\u001b[43m_wrapped\u001b[49m\u001b[43m)\u001b[49m\n\u001b[32m     93\u001b[39m \u001b[38;5;28;01mexcept\u001b[39;00m \u001b[38;5;167;01mTypeError\u001b[39;00m:\n\u001b[32m     94\u001b[39m     \u001b[38;5;66;03m# It is possible the wrapped method isn't an iterable (a grpc.Call\u001b[39;00m\n\u001b[32m     95\u001b[39m     \u001b[38;5;66;03m# for instance). If this happens don't store the first result.\u001b[39;00m\n\u001b[32m     96\u001b[39m     \u001b[38;5;28;01mpass\u001b[39;00m\n",
      "\u001b[36mFile \u001b[39m\u001b[32m~/Desktop/project/ADA/antopinion/back/.venv/lib/python3.13/site-packages/grpc/_channel.py:543\u001b[39m, in \u001b[36m_Rendezvous.__next__\u001b[39m\u001b[34m(self)\u001b[39m\n\u001b[32m    542\u001b[39m \u001b[38;5;28;01mdef\u001b[39;00m\u001b[38;5;250m \u001b[39m\u001b[34m__next__\u001b[39m(\u001b[38;5;28mself\u001b[39m):\n\u001b[32m--> \u001b[39m\u001b[32m543\u001b[39m     \u001b[38;5;28;01mreturn\u001b[39;00m \u001b[38;5;28;43mself\u001b[39;49m\u001b[43m.\u001b[49m\u001b[43m_next\u001b[49m\u001b[43m(\u001b[49m\u001b[43m)\u001b[49m\n",
      "\u001b[36mFile \u001b[39m\u001b[32m~/Desktop/project/ADA/antopinion/back/.venv/lib/python3.13/site-packages/grpc/_channel.py:960\u001b[39m, in \u001b[36m_MultiThreadedRendezvous._next\u001b[39m\u001b[34m(self)\u001b[39m\n\u001b[32m    954\u001b[39m \u001b[38;5;28;01mdef\u001b[39;00m\u001b[38;5;250m \u001b[39m\u001b[34m_response_ready\u001b[39m():\n\u001b[32m    955\u001b[39m     \u001b[38;5;28;01mreturn\u001b[39;00m \u001b[38;5;28mself\u001b[39m._state.response \u001b[38;5;129;01mis\u001b[39;00m \u001b[38;5;129;01mnot\u001b[39;00m \u001b[38;5;28;01mNone\u001b[39;00m \u001b[38;5;129;01mor\u001b[39;00m (\n\u001b[32m    956\u001b[39m         cygrpc.OperationType.receive_message \u001b[38;5;129;01mnot\u001b[39;00m \u001b[38;5;129;01min\u001b[39;00m \u001b[38;5;28mself\u001b[39m._state.due\n\u001b[32m    957\u001b[39m         \u001b[38;5;129;01mand\u001b[39;00m \u001b[38;5;28mself\u001b[39m._state.code \u001b[38;5;129;01mis\u001b[39;00m \u001b[38;5;129;01mnot\u001b[39;00m \u001b[38;5;28;01mNone\u001b[39;00m\n\u001b[32m    958\u001b[39m     )\n\u001b[32m--> \u001b[39m\u001b[32m960\u001b[39m \u001b[43m_common\u001b[49m\u001b[43m.\u001b[49m\u001b[43mwait\u001b[49m\u001b[43m(\u001b[49m\u001b[38;5;28;43mself\u001b[39;49m\u001b[43m.\u001b[49m\u001b[43m_state\u001b[49m\u001b[43m.\u001b[49m\u001b[43mcondition\u001b[49m\u001b[43m.\u001b[49m\u001b[43mwait\u001b[49m\u001b[43m,\u001b[49m\u001b[43m \u001b[49m\u001b[43m_response_ready\u001b[49m\u001b[43m)\u001b[49m\n\u001b[32m    961\u001b[39m \u001b[38;5;28;01mif\u001b[39;00m \u001b[38;5;28mself\u001b[39m._state.response \u001b[38;5;129;01mis\u001b[39;00m \u001b[38;5;129;01mnot\u001b[39;00m \u001b[38;5;28;01mNone\u001b[39;00m:\n\u001b[32m    962\u001b[39m     response = \u001b[38;5;28mself\u001b[39m._state.response\n",
      "\u001b[36mFile \u001b[39m\u001b[32m~/Desktop/project/ADA/antopinion/back/.venv/lib/python3.13/site-packages/grpc/_common.py:156\u001b[39m, in \u001b[36mwait\u001b[39m\u001b[34m(wait_fn, wait_complete_fn, timeout, spin_cb)\u001b[39m\n\u001b[32m    154\u001b[39m \u001b[38;5;28;01mif\u001b[39;00m timeout \u001b[38;5;129;01mis\u001b[39;00m \u001b[38;5;28;01mNone\u001b[39;00m:\n\u001b[32m    155\u001b[39m     \u001b[38;5;28;01mwhile\u001b[39;00m \u001b[38;5;129;01mnot\u001b[39;00m wait_complete_fn():\n\u001b[32m--> \u001b[39m\u001b[32m156\u001b[39m         \u001b[43m_wait_once\u001b[49m\u001b[43m(\u001b[49m\u001b[43mwait_fn\u001b[49m\u001b[43m,\u001b[49m\u001b[43m \u001b[49m\u001b[43mMAXIMUM_WAIT_TIMEOUT\u001b[49m\u001b[43m,\u001b[49m\u001b[43m \u001b[49m\u001b[43mspin_cb\u001b[49m\u001b[43m)\u001b[49m\n\u001b[32m    157\u001b[39m \u001b[38;5;28;01melse\u001b[39;00m:\n\u001b[32m    158\u001b[39m     end = time.time() + timeout\n",
      "\u001b[36mFile \u001b[39m\u001b[32m~/Desktop/project/ADA/antopinion/back/.venv/lib/python3.13/site-packages/grpc/_common.py:116\u001b[39m, in \u001b[36m_wait_once\u001b[39m\u001b[34m(wait_fn, timeout, spin_cb)\u001b[39m\n\u001b[32m    111\u001b[39m \u001b[38;5;28;01mdef\u001b[39;00m\u001b[38;5;250m \u001b[39m\u001b[34m_wait_once\u001b[39m(\n\u001b[32m    112\u001b[39m     wait_fn: Callable[..., \u001b[38;5;28mbool\u001b[39m],\n\u001b[32m    113\u001b[39m     timeout: \u001b[38;5;28mfloat\u001b[39m,\n\u001b[32m    114\u001b[39m     spin_cb: Optional[Callable[[], \u001b[38;5;28;01mNone\u001b[39;00m]],\n\u001b[32m    115\u001b[39m ):\n\u001b[32m--> \u001b[39m\u001b[32m116\u001b[39m     \u001b[43mwait_fn\u001b[49m\u001b[43m(\u001b[49m\u001b[43mtimeout\u001b[49m\u001b[43m=\u001b[49m\u001b[43mtimeout\u001b[49m\u001b[43m)\u001b[49m\n\u001b[32m    117\u001b[39m     \u001b[38;5;28;01mif\u001b[39;00m spin_cb \u001b[38;5;129;01mis\u001b[39;00m \u001b[38;5;129;01mnot\u001b[39;00m \u001b[38;5;28;01mNone\u001b[39;00m:\n\u001b[32m    118\u001b[39m         spin_cb()\n",
      "\u001b[36mFile \u001b[39m\u001b[32m/opt/homebrew/Cellar/python@3.13/3.13.2/Frameworks/Python.framework/Versions/3.13/lib/python3.13/threading.py:363\u001b[39m, in \u001b[36mCondition.wait\u001b[39m\u001b[34m(self, timeout)\u001b[39m\n\u001b[32m    361\u001b[39m \u001b[38;5;28;01melse\u001b[39;00m:\n\u001b[32m    362\u001b[39m     \u001b[38;5;28;01mif\u001b[39;00m timeout > \u001b[32m0\u001b[39m:\n\u001b[32m--> \u001b[39m\u001b[32m363\u001b[39m         gotit = \u001b[43mwaiter\u001b[49m\u001b[43m.\u001b[49m\u001b[43macquire\u001b[49m\u001b[43m(\u001b[49m\u001b[38;5;28;43;01mTrue\u001b[39;49;00m\u001b[43m,\u001b[49m\u001b[43m \u001b[49m\u001b[43mtimeout\u001b[49m\u001b[43m)\u001b[49m\n\u001b[32m    364\u001b[39m     \u001b[38;5;28;01melse\u001b[39;00m:\n\u001b[32m    365\u001b[39m         gotit = waiter.acquire(\u001b[38;5;28;01mFalse\u001b[39;00m)\n",
      "\u001b[31mKeyboardInterrupt\u001b[39m: "
     ]
    }
   ],
   "source": [
    "get_sector_details(date)"
   ]
  }
 ],
 "metadata": {
  "kernelspec": {
   "display_name": ".venv",
   "language": "python",
   "name": "python3"
  },
  "language_info": {
   "codemirror_mode": {
    "name": "ipython",
    "version": 3
   },
   "file_extension": ".py",
   "mimetype": "text/x-python",
   "name": "python",
   "nbconvert_exporter": "python",
   "pygments_lexer": "ipython3",
   "version": "3.13.2"
  }
 },
 "nbformat": 4,
 "nbformat_minor": 5
}
